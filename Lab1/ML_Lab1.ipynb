{
  "nbformat": 4,
  "nbformat_minor": 0,
  "metadata": {
    "colab": {
      "provenance": []
    },
    "kernelspec": {
      "name": "python3",
      "display_name": "Python 3"
    },
    "language_info": {
      "name": "python"
    }
  },
  "cells": [
    {
      "cell_type": "markdown",
      "source": [
        "#  \n",
        "<h1><center><bold>123cs0022 - ML Lab - 30/7/25</bold></center></h1>"
      ],
      "metadata": {
        "id": "tioNBCQhpclf"
      }
    },
    {
      "cell_type": "markdown",
      "source": [
        "# **Question 1 : Set Union**"
      ],
      "metadata": {
        "id": "IjatPaxdesY9"
      }
    },
    {
      "cell_type": "code",
      "execution_count": 7,
      "metadata": {
        "colab": {
          "base_uri": "https://localhost:8080/"
        },
        "id": "Kg6iZcgBeeXJ",
        "outputId": "4dfb28ef-fcfe-4434-b435-5aaee3e7231b"
      },
      "outputs": [
        {
          "output_type": "stream",
          "name": "stdout",
          "text": [
            "n = 2\n",
            "Elements = 1 2\n",
            "m = 3\n",
            "Elements = 1 2 3\n",
            "3\n"
          ]
        }
      ],
      "source": [
        "n = int(input(\"n = \"))\n",
        "setA = set(map(int, input(\"Elements = \").split(\" \")))\n",
        "m = int(input(\"m = \"))\n",
        "setB = set(map(int, input(\"Elements = \").split(\" \")))\n",
        "\n",
        "ans = setA.union(setB)\n",
        "print(len(ans))"
      ]
    },
    {
      "cell_type": "markdown",
      "source": [
        "# **Question 2 : Set Intersection Count**"
      ],
      "metadata": {
        "id": "XZxIhXM5gIWt"
      }
    },
    {
      "cell_type": "code",
      "source": [
        "n = int(input(\"n = \"))\n",
        "setA = set(map(str, input(\"Elements = \").split(\" \")))\n",
        "m = int(input(\"m = \"))\n",
        "setB = set(map(str, input(\"Elements = \").split(\" \")))\n",
        "\n",
        "ans = setA.intersection(setB)\n",
        "print(len(ans))"
      ],
      "metadata": {
        "colab": {
          "base_uri": "https://localhost:8080/"
        },
        "id": "YvQ4ufZlgLR9",
        "outputId": "b4531d62-1c88-48db-b595-77d9c12c45d2"
      },
      "execution_count": 8,
      "outputs": [
        {
          "output_type": "stream",
          "name": "stdout",
          "text": [
            "n = 3\n",
            "Elements = apple banana mango\n",
            "m = 2\n",
            "Elements = apple papaya\n",
            "1\n"
          ]
        }
      ]
    },
    {
      "cell_type": "markdown",
      "source": [
        "# **Question 3 : Set Symmetric Difference**"
      ],
      "metadata": {
        "id": "v00g6eAGgikd"
      }
    },
    {
      "cell_type": "code",
      "source": [
        "n = int(input(\"n = \"))\n",
        "setA = set(map(int, input(\"Elements = \").split(\" \")))\n",
        "m = int(input(\"m = \"))\n",
        "setB = set(map(int, input(\"Elements = \").split(\" \")))\n",
        "\n",
        "union = setA.union(setB)\n",
        "intersection = setA.intersection(setB)\n",
        "ans = union - intersection\n",
        "print(ans)"
      ],
      "metadata": {
        "colab": {
          "base_uri": "https://localhost:8080/"
        },
        "id": "ptHbfSpBgmZd",
        "outputId": "17e7e6a9-e10a-475d-cfd1-79e1a10f5d73"
      },
      "execution_count": 10,
      "outputs": [
        {
          "output_type": "stream",
          "name": "stdout",
          "text": [
            "n = 4\n",
            "Elements = 4 2 6 8\n",
            "m = 3\n",
            "Elements = 2 5 7\n",
            "{4, 5, 6, 7, 8}\n"
          ]
        }
      ]
    },
    {
      "cell_type": "markdown",
      "source": [
        "# **Question 4 : Check Subset**"
      ],
      "metadata": {
        "id": "iYLMj3X5hAV9"
      }
    },
    {
      "cell_type": "code",
      "source": [
        "n = int(input(\"n = \"))\n",
        "setA = set(map(int, input(\"Elements = \").split(\" \")))\n",
        "m = int(input(\"m = \"))\n",
        "setB = set(map(int, input(\"Elements = \").split(\" \")))\n",
        "\n",
        "ans = setA.issubset(setB)\n",
        "print(ans)"
      ],
      "metadata": {
        "colab": {
          "base_uri": "https://localhost:8080/"
        },
        "id": "F5KwK9-ehFWN",
        "outputId": "c6865a42-3310-4857-86e5-7ec2d6652293"
      },
      "execution_count": 11,
      "outputs": [
        {
          "output_type": "stream",
          "name": "stdout",
          "text": [
            "n = 3\n",
            "Elements = 1 2 3\n",
            "m = 5\n",
            "Elements = 1 2 3 4 5\n",
            "True\n"
          ]
        }
      ]
    },
    {
      "cell_type": "markdown",
      "source": [
        "# **Question 5 : Set Difference**"
      ],
      "metadata": {
        "id": "KnIXHZi9hVEV"
      }
    },
    {
      "cell_type": "code",
      "source": [
        "n = int(input(\"n = \"))\n",
        "setA = set(map(int, input(\"Elements = \").split(\" \")))\n",
        "m = int(input(\"m = \"))\n",
        "setB = set(map(int, input(\"Elements = \").split(\" \")))\n",
        "\n",
        "ans = setA.difference(setB)\n",
        "print(ans)"
      ],
      "metadata": {
        "colab": {
          "base_uri": "https://localhost:8080/"
        },
        "id": "EsqgzX2JhYEE",
        "outputId": "9583651a-e7b5-47a3-de11-f09d6edc62d3"
      },
      "execution_count": 12,
      "outputs": [
        {
          "output_type": "stream",
          "name": "stdout",
          "text": [
            "n = 5\n",
            "Elements = 1 2 3 4 5\n",
            "m = 3\n",
            "Elements = 2 4 6\n",
            "{1, 3, 5}\n"
          ]
        }
      ]
    },
    {
      "cell_type": "code",
      "source": [
        "!pip install numpy"
      ],
      "metadata": {
        "colab": {
          "base_uri": "https://localhost:8080/"
        },
        "id": "ZRli5AJ5h-iV",
        "outputId": "37335df7-95e9-4f21-c339-f37eb0171594"
      },
      "execution_count": 13,
      "outputs": [
        {
          "output_type": "stream",
          "name": "stdout",
          "text": [
            "Requirement already satisfied: numpy in /usr/local/lib/python3.11/dist-packages (2.0.2)\n"
          ]
        }
      ]
    },
    {
      "cell_type": "markdown",
      "source": [
        "# **Numpy**\n"
      ],
      "metadata": {
        "id": "RS4kT4Rjh14l"
      }
    },
    {
      "cell_type": "code",
      "source": [
        "import numpy as np"
      ],
      "metadata": {
        "id": "DMVU6BLCiZfN"
      },
      "execution_count": 14,
      "outputs": []
    },
    {
      "cell_type": "markdown",
      "source": [
        "# **Question 1 : Array Manipulation with NumPy**"
      ],
      "metadata": {
        "id": "MbTBx1exiLp1"
      }
    },
    {
      "cell_type": "code",
      "source": [
        "n = int(input(\"n = \"))\n",
        "arr = np.array(input(\"Elements = \").split(\" \")).astype(int)\n",
        "\n",
        "even_mask = arr % 2 == 0\n",
        "arr[even_mask] *= 2\n",
        "arr[~even_mask] //= 2\n",
        "\n",
        "print(arr)"
      ],
      "metadata": {
        "colab": {
          "base_uri": "https://localhost:8080/"
        },
        "id": "GxcSKOrgh6_8",
        "outputId": "d59eba35-4cfa-405c-cfb1-5905f9ddec32"
      },
      "execution_count": 21,
      "outputs": [
        {
          "output_type": "stream",
          "name": "stdout",
          "text": [
            "n = 5\n",
            "Elements = 2 3 4 5 6\n",
            "[ 4  1  8  2 12]\n"
          ]
        }
      ]
    },
    {
      "cell_type": "markdown",
      "source": [
        "# **Question 2 : Matrix Diagonal Sum using NumPy**"
      ],
      "metadata": {
        "id": "elMnFkFSji-V"
      }
    },
    {
      "cell_type": "code",
      "source": [
        "n = int(input(\"n = \"))\n",
        "arr = np.array([[int(x) for x in input(f\"Elements of row {i}: \").split()] for i in range(n)])\n",
        "\n",
        "diag1 = np.sum(np.diag(arr))\n",
        "diag2 = np.sum(np.diag(np.fliplr(arr)))\n",
        "\n",
        "print(abs(diag1 - diag2))"
      ],
      "metadata": {
        "colab": {
          "base_uri": "https://localhost:8080/"
        },
        "id": "OijHDVOVjnE0",
        "outputId": "cc7f5e19-8bad-45ba-a4c3-b2fad1760d43"
      },
      "execution_count": 34,
      "outputs": [
        {
          "output_type": "stream",
          "name": "stdout",
          "text": [
            "n = 3\n",
            "Elements of row 0: 11 2 4\n",
            "Elements of row 1: 4 5 6\n",
            "Elements of row 2: 10 8 -12\n",
            "15\n"
          ]
        }
      ]
    },
    {
      "cell_type": "markdown",
      "source": [
        "# **Question 3 : Reshape Array using NumPy**"
      ],
      "metadata": {
        "id": "jV9vuSj2mQhN"
      }
    },
    {
      "cell_type": "code",
      "source": [
        "n, rows, cols = map(int, (input(\"n, rows, cols = \").split(\" \")))\n",
        "arr = np.array(input(\"Elements = \").split(\" \")).astype(int)\n",
        "\n",
        "if len(arr) != rows * cols:\n",
        "    print(-1)\n",
        "else:\n",
        "    reshaped_arr = arr.reshape(rows, cols)\n",
        "    print(reshaped_arr)"
      ],
      "metadata": {
        "colab": {
          "base_uri": "https://localhost:8080/"
        },
        "id": "xxrW7Qr_mjFV",
        "outputId": "670615d2-7741-4e2f-9800-d602d2eab28c"
      },
      "execution_count": 39,
      "outputs": [
        {
          "output_type": "stream",
          "name": "stdout",
          "text": [
            "n, rows, cols = 6 2 3\n",
            "Elements = 1 2 3 4 5 6\n",
            "[[1 2 3]\n",
            " [4 5 6]]\n"
          ]
        }
      ]
    },
    {
      "cell_type": "markdown",
      "source": [
        "# **Question 4 : Element-wise Operations on Two Arrays**"
      ],
      "metadata": {
        "id": "Rt-HDq22nW8t"
      }
    },
    {
      "cell_type": "code",
      "source": [
        "n = int(input(\"n = \"))\n",
        "arr = np.array(input(\"Elements = \").split(\" \")).astype(int)\n",
        "brr = np.array(input(\"Elements = \").split(\" \")).astype(int)\n",
        "\n",
        "print(arr + brr)\n",
        "print(arr - brr)\n",
        "print(arr * brr)\n",
        "print(arr // brr)"
      ],
      "metadata": {
        "colab": {
          "base_uri": "https://localhost:8080/"
        },
        "id": "YLIvF5ioncrF",
        "outputId": "2badb0cb-4040-4e41-d863-88b265058a21"
      },
      "execution_count": 40,
      "outputs": [
        {
          "output_type": "stream",
          "name": "stdout",
          "text": [
            "n = 4\n",
            "Elements = 2 4 6 8\n",
            "Elements = 1 2 3 4\n",
            "[ 3  6  9 12]\n",
            "[1 2 3 4]\n",
            "[ 2  8 18 32]\n",
            "[2 2 2 2]\n"
          ]
        }
      ]
    },
    {
      "cell_type": "markdown",
      "source": [
        "# **Question 5 : Find Unique Elements Using NumPy**"
      ],
      "metadata": {
        "id": "hl0E0pduny31"
      }
    },
    {
      "cell_type": "code",
      "source": [
        "n = int(input(\"n = \"))\n",
        "arr = set(map(int, np.array(input(\"Elements = \").split(\" \")).astype(int)))\n",
        "\n",
        "print(arr)"
      ],
      "metadata": {
        "colab": {
          "base_uri": "https://localhost:8080/"
        },
        "id": "NNB5JMPkn2Zl",
        "outputId": "4cf63d2a-11f0-4523-98c1-bcbb39b829ba"
      },
      "execution_count": 45,
      "outputs": [
        {
          "output_type": "stream",
          "name": "stdout",
          "text": [
            "n = 10\n",
            "Elements = 4 5 6 5 4 7 8 6 9 7\n",
            "{4, 5, 6, 7, 8, 9}\n"
          ]
        }
      ]
    },
    {
      "cell_type": "markdown",
      "source": [
        "# **Question 6 : Boolean Indexing with NumPy**"
      ],
      "metadata": {
        "id": "dYbrQwvMovMO"
      }
    },
    {
      "cell_type": "code",
      "source": [
        "n = int(input(\"n = \"))\n",
        "arr = np.array(input(\"Elements = \").split(\" \")).astype(int)\n",
        "t = int(input(\"t = \"))\n",
        "\n",
        "filtered_arr = arr[arr > t]\n",
        "print(filtered_arr)"
      ],
      "metadata": {
        "colab": {
          "base_uri": "https://localhost:8080/"
        },
        "id": "jbjgj3NJo-8V",
        "outputId": "00050f4a-56e2-4c9e-aefc-0d896148eb84"
      },
      "execution_count": 46,
      "outputs": [
        {
          "output_type": "stream",
          "name": "stdout",
          "text": [
            "n = 6\n",
            "Elements = 3 10 15 8 6 2\n",
            "t = 7\n",
            "[10 15  8]\n"
          ]
        }
      ]
    }
  ]
}