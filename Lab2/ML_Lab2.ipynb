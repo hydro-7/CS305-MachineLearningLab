{
  "nbformat": 4,
  "nbformat_minor": 0,
  "metadata": {
    "colab": {
      "provenance": []
    },
    "kernelspec": {
      "name": "python3",
      "display_name": "Python 3"
    },
    "language_info": {
      "name": "python"
    }
  },
  "cells": [
    {
      "cell_type": "markdown",
      "source": [
        "# **1. DataFrame Column Operations with Pandas**\n"
      ],
      "metadata": {
        "id": "l93VXnrhg2WH"
      }
    },
    {
      "cell_type": "code",
      "source": [
        "!pip install pandas"
      ],
      "metadata": {
        "colab": {
          "base_uri": "https://localhost:8080/"
        },
        "id": "P9yEPPZdjJfu",
        "outputId": "6943e25b-bd32-494c-f56f-b7d277a6b584"
      },
      "execution_count": null,
      "outputs": [
        {
          "output_type": "stream",
          "name": "stdout",
          "text": [
            "Requirement already satisfied: pandas in /usr/local/lib/python3.11/dist-packages (2.2.2)\n",
            "Requirement already satisfied: numpy>=1.23.2 in /usr/local/lib/python3.11/dist-packages (from pandas) (2.0.2)\n",
            "Requirement already satisfied: python-dateutil>=2.8.2 in /usr/local/lib/python3.11/dist-packages (from pandas) (2.9.0.post0)\n",
            "Requirement already satisfied: pytz>=2020.1 in /usr/local/lib/python3.11/dist-packages (from pandas) (2025.2)\n",
            "Requirement already satisfied: tzdata>=2022.7 in /usr/local/lib/python3.11/dist-packages (from pandas) (2025.2)\n",
            "Requirement already satisfied: six>=1.5 in /usr/local/lib/python3.11/dist-packages (from python-dateutil>=2.8.2->pandas) (1.17.0)\n"
          ]
        }
      ]
    },
    {
      "cell_type": "markdown",
      "source": [
        "1."
      ],
      "metadata": {
        "id": "gAu8LOV96K36"
      }
    },
    {
      "cell_type": "code",
      "source": [
        "import pandas as pd\n",
        "n = int(input())\n",
        "names, maths, sci = [], [], []\n",
        "\n",
        "for _ in range(n):\n",
        "    name, m, s = map(str, input().split(\" \"))\n",
        "    name, m, s = str(name), int(m), int(s)\n",
        "    names.append(name)\n",
        "    maths.append(m)\n",
        "    sci.append(s)\n",
        "\n",
        "df = pd.DataFrame({\"name\":names, \"math_score\":maths, \"science_score\":sci, \"total_score\":[maths[i] + sci[i] for i in range(n)]})\n",
        "print(df)"
      ],
      "metadata": {
        "id": "avKqF9kn6PGS"
      },
      "execution_count": null,
      "outputs": []
    },
    {
      "cell_type": "markdown",
      "source": [
        "2."
      ],
      "metadata": {
        "id": "C2bo88UT6Phr"
      }
    },
    {
      "cell_type": "code",
      "source": [
        "import pandas as pd\n",
        "n = int(input())\n",
        "names, salaries = [], []\n",
        "for _ in range(n):\n",
        "    name, salary = map(str, input().split(\" \"))\n",
        "    name, salary = str(name), int(salary)\n",
        "    names.append(name)\n",
        "    salaries.append(salary)\n",
        "\n",
        "df = pd.DataFrame({\"name\":names, \"salary\":salaries})\n",
        "\n",
        "threshold = int(input())\n",
        "df = df[df[\"salary\"] > threshold]\n",
        "print(df)"
      ],
      "metadata": {
        "id": "0kIDZV3N6PyJ"
      },
      "execution_count": null,
      "outputs": []
    },
    {
      "cell_type": "markdown",
      "source": [
        "3."
      ],
      "metadata": {
        "id": "792ITpzu6SoW"
      }
    },
    {
      "cell_type": "code",
      "source": [
        "import pandas as pd\n",
        "n = int(input())\n",
        "depts, slrs = [], []\n",
        "for _ in range(n):\n",
        "    dept, slr = map(str, input().split(\" \"))\n",
        "    dept, slr = str(dept), int(slr)\n",
        "    depts.append(dept)\n",
        "    slrs.append(slr)\n",
        "\n",
        "df = pd.DataFrame({\"department\":depts, \"avg_salary\":slrs})\n",
        "df = df.groupby(\"department\")[\"avg_salary\"].mean().reset_index()\n",
        "print(df)"
      ],
      "metadata": {
        "id": "SqxpZqyh6TD7"
      },
      "execution_count": null,
      "outputs": []
    },
    {
      "cell_type": "markdown",
      "source": [
        "4."
      ],
      "metadata": {
        "id": "xKfYUqxS6Vem"
      }
    },
    {
      "cell_type": "code",
      "source": [
        "import pandas as pd\n",
        "n = int(input())\n",
        "\n",
        "pdts, prcs = [], []\n",
        "for _ in range(n):\n",
        "    pdt, prc = map(str, input().split(\" \"))\n",
        "    pdt, prc = str(pdt), int(prc)\n",
        "    pdts.append(pdt)\n",
        "    prcs.append(prc)\n",
        "\n",
        "df = pd.DataFrame({\"product\":pdts, \"price\":prcs})\n",
        "df = df.sort_values(by = \"price\", ascending=False).reset_index(drop = True)\n",
        "print(df)"
      ],
      "metadata": {
        "id": "ifS6jqNq6V8z"
      },
      "execution_count": null,
      "outputs": []
    },
    {
      "cell_type": "markdown",
      "source": [
        "5."
      ],
      "metadata": {
        "id": "e1DCqPSR6Y_u"
      }
    },
    {
      "cell_type": "code",
      "source": [
        "import pandas as pd\n",
        "n = int(input())\n",
        "\n",
        "eids, names, slrs = [], [], []\n",
        "for _ in range(n):\n",
        "    eid, name = map(str, input().split(\" \"))\n",
        "    eid, name = int(eid), str(name)\n",
        "    eids.append(eid)\n",
        "    names.append(name)\n",
        "\n",
        "df1 = pd.DataFrame({\"employee_id\":eids, \"name\":names})\n",
        "\n",
        "eids = []\n",
        "m = int(input())\n",
        "for _ in range(m):\n",
        "    eid, slr = map(int, input().split(\" \"))\n",
        "    eids.append(eid)\n",
        "    slrs.append(slr)\n",
        "\n",
        "df2 = pd.DataFrame({\"employee_id\": eids, \"salary\": slrs})\n",
        "\n",
        "df = pd.merge(df1, df2, on=\"employee_id\")\n",
        "print(df)"
      ],
      "metadata": {
        "id": "BzwEMRLl6Z6F"
      },
      "execution_count": null,
      "outputs": []
    },
    {
      "cell_type": "markdown",
      "source": [
        "6."
      ],
      "metadata": {
        "id": "Tcrt1_Wv6dgW"
      }
    },
    {
      "cell_type": "code",
      "source": [
        "import pandas as pd\n",
        "n = int(input())\n",
        "\n",
        "ds, gs, slrs = [], [], []\n",
        "for _ in range(n):\n",
        "    d, g, s  = map(str, input().split(\" \"))\n",
        "    d, g, s = str(d), str(g), int(s)\n",
        "    ds.append(d)\n",
        "    gs.append(g)\n",
        "    slrs.append(s)\n",
        "\n",
        "df = pd.DataFrame({\"department\":ds, \"gender\":gs, \"salary\":slrs})\n",
        "df = df.groupby([\"department\", \"gender\"])[\"salary\"].mean().reset_index()\n",
        "df = df.rename(columns = {\"salary\" : \"avg_salary\"})\n",
        "print(df)"
      ],
      "metadata": {
        "id": "-907nUXH6d5z"
      },
      "execution_count": null,
      "outputs": []
    },
    {
      "cell_type": "markdown",
      "source": [
        "7."
      ],
      "metadata": {
        "id": "087WjxK06goO"
      }
    },
    {
      "cell_type": "code",
      "source": [
        "import pandas as pd\n",
        "\n",
        "n = int(input())\n",
        "rs, ps, ss = [], [], []\n",
        "\n",
        "for _ in range(n):\n",
        "    r, p, s = map(str, input().split(\" \"))\n",
        "    r, p, s = str(r), str(p), int(s)\n",
        "    rs.append(r)\n",
        "    ps.append(p)\n",
        "    ss.append(s)\n",
        "\n",
        "df = pd.DataFrame({\"region\":rs, \"product\": ps, \"sales\": ss})\n",
        "pt = pd.pivot_table(df, values = 'sales', index = 'region', columns = 'product', fill_value = 0)\n",
        "print(pt.astype(int))\n"
      ],
      "metadata": {
        "id": "eBeNxsdK6hLC"
      },
      "execution_count": null,
      "outputs": []
    },
    {
      "cell_type": "markdown",
      "source": [
        "8."
      ],
      "metadata": {
        "id": "LeK5Irm_6rmy"
      }
    },
    {
      "cell_type": "code",
      "source": [
        "import pandas as pd\n",
        "\n",
        "N = int(input())\n",
        "ns, cs, ars, ps, gs = [], [], [], [], []\n",
        "\n",
        "for _ in range(N):\n",
        "    n, c, a, p, g = map(str, input().split(\" \"))\n",
        "    a, p, g = int(a), int(p), int(g)\n",
        "    ns.append(n)\n",
        "    cs.append(c)\n",
        "    ars.append(a)\n",
        "    ps.append(p)\n",
        "    gs.append(g)\n",
        "\n",
        "df = pd.DataFrame({\"name\":ns, \"continents\":cs, \"population\":ps, \"area\":ars, \"gdp\":gs})\n",
        "df = df[(df['area'] > 3000000) | (df['population'] > 25000000)].reset_index()\n",
        "print(df[['name', 'population', 'area']])"
      ],
      "metadata": {
        "id": "QkOowPlv6sCp"
      },
      "execution_count": null,
      "outputs": []
    },
    {
      "cell_type": "markdown",
      "source": [
        "9."
      ],
      "metadata": {
        "id": "Zt3pHxjf6uHj"
      }
    },
    {
      "cell_type": "code",
      "source": [
        "import pandas as pd\n",
        "\n",
        "n = int(input())\n",
        "ps, ls, rs = [], [], []\n",
        "\n",
        "for _ in range(n):\n",
        "    p, l, r = map(str, input().split(\" \"))\n",
        "    p = int(p)\n",
        "    ps.append(p)\n",
        "    ls.append(l)\n",
        "    rs.append(r)\n",
        "\n",
        "df = pd.DataFrame({'product_id':ps, 'ls':ls, 'rs':rs})\n",
        "df = df[(df['ls'] == 'Y') & (df['rs'] == 'Y')]\n",
        "print(df[['product_id']].reset_index(drop=True))"
      ],
      "metadata": {
        "id": "G5cPAWJa6uaz"
      },
      "execution_count": null,
      "outputs": []
    },
    {
      "cell_type": "markdown",
      "source": [
        "10."
      ],
      "metadata": {
        "id": "s-ROs9LI6xmf"
      }
    },
    {
      "cell_type": "code",
      "source": [
        "import pandas as pd\n",
        "\n",
        "data = []\n",
        "n = int(input())\n",
        "for _ in range(n):\n",
        "    order_id, customer_id, amount = input().split()\n",
        "    data.append([int(order_id), int(customer_id), int(amount)])\n",
        "\n",
        "df = pd.DataFrame(data, columns=['order_id', 'customer_id', 'total_amount'])\n",
        "df = df.drop(columns='order_id')\n",
        "df = df.groupby('customer_id', as_index=False)['total_amount'].sum()\n",
        "\n",
        "data1 = []\n",
        "m = int(input())\n",
        "for _ in range(m):\n",
        "    customer_id, name, city = input().split()\n",
        "    data1.append([int(customer_id), name, city])\n",
        "\n",
        "df1 = pd.DataFrame(data1, columns=['customer_id', 'name', 'city'])\n",
        "\n",
        "df_final = pd.merge(df, df1, on='customer_id')\n",
        "df_final = df_final[df_final['total_amount'] > 500]\n",
        "df_final = df_final.sort_values(by='total_amount', ascending=False).reset_index(drop=True)\n",
        "\n",
        "print(df_final[['customer_id', 'name', 'city', 'total_amount']])"
      ],
      "metadata": {
        "id": "wu8qq1bw60Bp"
      },
      "execution_count": null,
      "outputs": []
    },
    {
      "cell_type": "markdown",
      "source": [
        "11.\n"
      ],
      "metadata": {
        "id": "SyFApCfU61pT"
      }
    },
    {
      "cell_type": "code",
      "source": [
        "import pandas as pd\n",
        "\n",
        "n = int(input())\n",
        "\n",
        "names, ages, salaries = [], [], []\n",
        "for _ in range(n):\n",
        "    name, age, salary = input().split()\n",
        "\n",
        "    name = None if name == \"NA\" else name\n",
        "    age = None if age == \"NA\" else float(age)\n",
        "    salary = None if salary == \"NA\" else float(salary)\n",
        "\n",
        "    names.append(name)\n",
        "    ages.append(age)\n",
        "    salaries.append(salary)\n",
        "\n",
        "df = pd.DataFrame({\"name\": names, \"age\": ages, \"salary\": salaries})\n",
        "\n",
        "df[\"age\"] = df[\"age\"].fillna(df[\"age\"].mean())\n",
        "df[\"salary\"] = df[\"salary\"].fillna(0)\n",
        "df[\"age\"] = df[\"age\"].round(2)\n",
        "df[\"salary\"] = df[\"salary\"].round(2)\n",
        "\n",
        "print(df)\n"
      ],
      "metadata": {
        "id": "_hHAu7Ac62O-"
      },
      "execution_count": null,
      "outputs": []
    },
    {
      "cell_type": "markdown",
      "source": [
        "12."
      ],
      "metadata": {
        "id": "1nxKeL6S64YD"
      }
    },
    {
      "cell_type": "code",
      "source": [
        "import pandas as pd\n",
        "\n",
        "n = int(input())\n",
        "dates, sales = [], []\n",
        "\n",
        "for i in range(n):\n",
        "    date, sale = input().split()\n",
        "    dates.append(date)\n",
        "    sales.append(int(sale))\n",
        "\n",
        "df = pd.DataFrame({\"date\": dates, \"sales\": sales})\n",
        "\n",
        "df[\"date\"] = pd.to_datetime(df[\"date\"])\n",
        "df[\"month\"] = df[\"date\"].dt.strftime('%b')\n",
        "df.drop(\"date\", axis=1, inplace=True)\n",
        "\n",
        "df = df.groupby(\"month\")[\"sales\"].sum()\n",
        "\n",
        "month_order = ['Jan', 'Feb', 'Mar', 'Apr', 'May', 'Jun',\n",
        "               'Jul', 'Aug', 'Sep', 'Oct', 'Nov', 'Dec']\n",
        "df = df.reindex(month_order).dropna()\n",
        "\n",
        "df = df.reset_index()\n",
        "df.columns = [\"month\", \"total_sales\"]\n",
        "df['total_sales'] = df['total_sales'].astype(int)\n",
        "\n",
        "print(df)\n"
      ],
      "metadata": {
        "id": "YNd5O9Bx65En"
      },
      "execution_count": null,
      "outputs": []
    },
    {
      "cell_type": "markdown",
      "source": [
        "13."
      ],
      "metadata": {
        "id": "6NXY__gc68RC"
      }
    },
    {
      "cell_type": "code",
      "source": [
        "import pandas as pd\n",
        "\n",
        "n = int(input())\n",
        "months, sales = [], []\n",
        "\n",
        "for _ in range(n):\n",
        "    month_str, sale = input().split()\n",
        "    months.append(month_str)\n",
        "    sales.append(int(sale))\n",
        "\n",
        "df = pd.DataFrame({\"month\": months, \"sales\": sales})\n",
        "\n",
        "df[\"month\"] = pd.to_datetime(df[\"month\"], format=\"%Y-%m\")\n",
        "df = df.groupby(\"month\")[\"sales\"].sum().reset_index()\n",
        "df.columns = [\"month\", \"total_sales\"]\n",
        "\n",
        "print(df)"
      ],
      "metadata": {
        "id": "XBBUuTbp68ms"
      },
      "execution_count": null,
      "outputs": []
    },
    {
      "cell_type": "markdown",
      "source": [
        "14."
      ],
      "metadata": {
        "id": "qiSQyFhR6-wr"
      }
    },
    {
      "cell_type": "code",
      "source": [
        "import pandas as pd\n",
        "\n",
        "n = int(input())\n",
        "product_names = []\n",
        "for _ in range(n):\n",
        "    product_names.append(input())\n",
        "\n",
        "df = pd.DataFrame({\"product_name\": product_names})\n",
        "df['product_name'] = df['product_name'].str.lower()\n",
        "df['product_name'] = df['product_name'].str.strip()\n",
        "df['first_word'] = df['product_name'].str.split().str[0]\n",
        "counts = df['first_word'].value_counts().reset_index()\n",
        "counts.columns = ['first_word', 'count']\n",
        "counts = counts.sort_values(by='count', ascending=False)\n",
        "\n",
        "print(counts)"
      ],
      "metadata": {
        "id": "KWj2i7n66_LU"
      },
      "execution_count": null,
      "outputs": []
    },
    {
      "cell_type": "markdown",
      "source": [
        "15."
      ],
      "metadata": {
        "id": "ovu1PJZs7A43"
      }
    },
    {
      "cell_type": "code",
      "source": [
        "import pandas as pd\n",
        "\n",
        "m = int(input())\n",
        "ids, salaries = [], []\n",
        "for _ in range(m):\n",
        "    emp_id, salary = input().split()\n",
        "    ids.append(int(emp_id))\n",
        "    salaries.append(int(salary))\n",
        "\n",
        "n = int(input())\n",
        "df = pd.DataFrame({'id': ids, 'salary': salaries})\n",
        "distinct_salaries = df['salary'].drop_duplicates().sort_values(ascending=False).reset_index(drop=True)\n",
        "\n",
        "if n <= len(distinct_salaries):\n",
        "    print(distinct_salaries[n - 1])\n",
        "else:\n",
        "    print(\"null\")\n"
      ],
      "metadata": {
        "id": "zb6QBu0G7BQ_"
      },
      "execution_count": null,
      "outputs": []
    },
    {
      "cell_type": "markdown",
      "source": [
        "16."
      ],
      "metadata": {
        "id": "oh30fQla7DQA"
      }
    },
    {
      "cell_type": "code",
      "source": [
        "import pandas as pd\n",
        "\n",
        "n = int(input())\n",
        "ids, scores = [], []\n",
        "\n",
        "for _ in range(n):\n",
        "    id_, score = input().split()\n",
        "    ids.append(int(id_))\n",
        "    scores.append(float(score))\n",
        "\n",
        "df = pd.DataFrame({'id': ids, 'score': scores})\n",
        "df = df.sort_values(by='score', ascending=False)\n",
        "df['rank'] = df['score'].rank(method='dense', ascending=False).astype(int)\n",
        "df = df[['score', 'rank']]\n",
        "\n",
        "print(df.to_string(index=False))"
      ],
      "metadata": {
        "id": "zBd6-XvV7EXq"
      },
      "execution_count": null,
      "outputs": []
    },
    {
      "cell_type": "markdown",
      "source": [
        "17."
      ],
      "metadata": {
        "id": "ps1Rayun7HG7"
      }
    },
    {
      "cell_type": "code",
      "source": [
        "import pandas as pd\n",
        "\n",
        "n = int(input())\n",
        "account_ids, incomes = [], []\n",
        "\n",
        "for _ in range(n):\n",
        "    acc_id, income = input().split()\n",
        "    account_ids.append(int(acc_id))\n",
        "    incomes.append(int(income))\n",
        "\n",
        "df = pd.DataFrame({'account_id': account_ids, 'income': incomes})\n",
        "\n",
        "df.loc[df['income'] < 20000, 'category'] = 'Low Salary'\n",
        "df.loc[(df['income'] >= 20000) & (df['income'] <= 50000), 'category'] = 'Average Salary'\n",
        "df.loc[df['income'] > 50000, 'category'] = 'High Salary'\n",
        "\n",
        "category_counts = df['category'].value_counts().to_dict()\n",
        "for category in ['Low Salary', 'Average Salary', 'High Salary']:\n",
        "    print(f\"{category} {category_counts.get(category, 0)}\")"
      ],
      "metadata": {
        "id": "Bxu5BGJa7Hp_"
      },
      "execution_count": null,
      "outputs": []
    },
    {
      "cell_type": "markdown",
      "source": [
        "18."
      ],
      "metadata": {
        "id": "mNKqZpJb7J27"
      }
    },
    {
      "cell_type": "code",
      "source": [
        "import pandas as pd\n",
        "\n",
        "n = int(input())\n",
        "ids, names, departments, managerIds = [], [], [], []\n",
        "\n",
        "for _ in range(n):\n",
        "    emp_id, name, dept, mgr_id = input().split()\n",
        "    ids.append(int(emp_id))\n",
        "    names.append(name)\n",
        "    departments.append(dept)\n",
        "    managerIds.append(None if mgr_id == \"null\" else int(mgr_id))\n",
        "\n",
        "df = pd.DataFrame({\n",
        "    \"id\": ids,\n",
        "    \"name\": names,\n",
        "    \"department\": departments,\n",
        "    \"managerId\": managerIds\n",
        "})\n",
        "\n",
        "report_counts = df['managerId'].value_counts()\n",
        "managers_with_5_or_more = report_counts[report_counts >= 5].index\n",
        "manager_names = df[df['id'].isin(managers_with_5_or_more)]['name']\n",
        "\n",
        "for name in manager_names:\n",
        "    print(name)"
      ],
      "metadata": {
        "id": "dFwgSZ3b7KhC"
      },
      "execution_count": null,
      "outputs": []
    }
  ]
}